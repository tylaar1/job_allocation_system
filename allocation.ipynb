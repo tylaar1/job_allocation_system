{
 "cells": [
  {
   "cell_type": "markdown",
   "id": "51eefc6f",
   "metadata": {},
   "source": [
    "# 1 i) Initial Setup of Classes"
   ]
  },
  {
   "cell_type": "code",
   "execution_count": 2,
   "metadata": {},
   "outputs": [],
   "source": [
    "from collections import deque\n",
    "\n",
    "class Analyst:\n",
    "    def __init__(self, name, rating, workload=0, max_workload=40, available=True):\n",
    "        self.name = name\n",
    "        self.rating = rating  #scored 1-5\n",
    "        self.workload = workload #hours assigned already default 0 \n",
    "        self.max_workload = max_workload #maximum hours they can work default 40\n",
    "        self.available = available # True if available for new tasks\n",
    "        self.tasks = [] # List of tasks assigned to the analyst\n",
    "\n",
    "class Task:\n",
    "    def __init__(self, name, importance, effort):\n",
    "        self.name = name\n",
    "        self.importance = importance  # scored 1-5\n",
    "        self.effort = effort # hours required to complete the task\n",
    "        self.assigned_to = None"
   ]
  },
  {
   "cell_type": "markdown",
   "id": "1061cb87",
   "metadata": {},
   "source": [
    "## 1 ii) dummy data"
   ]
  },
  {
   "cell_type": "code",
   "execution_count": 10,
   "id": "0007876a",
   "metadata": {},
   "outputs": [],
   "source": [
    "analysts = [\n",
    "    Analyst(\"Alice\", 5, 35, 40),\n",
    "    Analyst(\"Bob\", 4, 30, 40),\n",
    "    Analyst(\"Charlie\", 3, 20, 40),\n",
    "    Analyst(\"Dana\", 2, 10, 40),\n",
    "    Analyst(\"Eli\", 1, 5, 40),\n",
    "    Analyst(\"Josh\", 5, 0, 40)\n",
    "]\n",
    "\n",
    "tasks = [\n",
    "    Task(\"Task1\", 2, 10),\n",
    "    Task(\"Task2\", 5, 15),\n",
    "    Task(\"Task3\", 3, 20),\n",
    "    Task(\"Task4\", 4, 25),\n",
    "    Task(\"Task5\", 1, 30),\n",
    "]"
   ]
  },
  {
   "cell_type": "markdown",
   "id": "4dadf645",
   "metadata": {},
   "source": [
    "## 2 i) starter function"
   ]
  },
  {
   "cell_type": "code",
   "execution_count": 8,
   "id": "d54e8975",
   "metadata": {},
   "outputs": [
    {
     "name": "stdout",
     "output_type": "stream",
     "text": [
      "Assigned Task2 to Josh\n",
      "Assigned Task4 to Josh\n",
      "Assigned Task3 to Charlie\n",
      "Assigned Task1 to Bob\n",
      "Assigned Task5 to Dana\n"
     ]
    }
   ],
   "source": [
    "def assign_tasks(analysts, tasks):\n",
    "    task_queue = deque(sorted(tasks, key=lambda t: (-t.importance, t.effort)))\n",
    "    \n",
    "    while task_queue:\n",
    "        task = task_queue.popleft()\n",
    "        best_analyst = None\n",
    "        \n",
    "        for analyst in sorted(analysts, key=lambda a: (-a.rating, a.workload)):\n",
    "            if analyst.available and (analyst.workload + task.effort <= analyst.max_workload):\n",
    "                best_analyst = analyst\n",
    "                break\n",
    "        \n",
    "        if best_analyst:\n",
    "            best_analyst.tasks.append(task)\n",
    "            best_analyst.workload += task.effort\n",
    "            best_analyst.available = best_analyst.workload < best_analyst.max_workload\n",
    "            task.assigned_to = best_analyst.name\n",
    "            print(f\"Assigned {task.name} to {best_analyst.name}\")\n",
    "        else:\n",
    "            print(f\"No available analyst for {task.name}\")\n",
    "            \n",
    "assign_tasks(analysts, tasks)"
   ]
  },
  {
   "cell_type": "markdown",
   "id": "900773ef",
   "metadata": {},
   "source": [
    "## 2 ii) reassign tasks in event of illness"
   ]
  },
  {
   "cell_type": "code",
   "execution_count": null,
   "id": "487f4fa5",
   "metadata": {},
   "outputs": [
    {
     "name": "stdout",
     "output_type": "stream",
     "text": [
      "Assigned Task2 to Josh\n",
      "Assigned Task4 to Josh\n",
      "Assigned Task3 to Dana\n",
      "Assigned Task1 to Bob\n",
      "Assigned Task5 to Eli\n"
     ]
    }
   ],
   "source": [
    "analysts = [\n",
    "    Analyst(\"Alice\", 5, 35, 40),\n",
    "    Analyst(\"Bob\", 4, 30, 40),\n",
    "    Analyst(\"Charlie\", 3, 20, 40),\n",
    "    Analyst(\"Dana\", 2, 10, 40),\n",
    "    Analyst(\"Eli\", 1, 5, 40),\n",
    "    Analyst(\"Josh\", 5, 0, 40)\n",
    "]\n",
    "\n",
    "tasks = [\n",
    "    Task(\"Task1\", 2, 10),\n",
    "    Task(\"Task2\", 5, 15),\n",
    "    Task(\"Task3\", 3, 20),\n",
    "    Task(\"Task4\", 4, 25),\n",
    "    Task(\"Task5\", 1, 30),\n",
    "]\n",
    "\n",
    "analysts.pop(2) #Charlie is ill\n",
    "assign_tasks(analysts,tasks)"
   ]
  },
  {
   "cell_type": "markdown",
   "id": "9a9c27e8",
   "metadata": {},
   "source": [
    "## 3 i) New rule: Analysts may not attempt tasks with higher importance level than their analyst level\n",
    "\n",
    "#### Analysts are now dicts not lists to allow task reassignment in 3 ii)"
   ]
  },
  {
   "cell_type": "code",
   "execution_count": 82,
   "id": "16dfe43e",
   "metadata": {},
   "outputs": [],
   "source": [
    "def assign_tasks_max_level(analysts_dict:dict, tasks:list):\n",
    "    analysts = list(analysts_dict.values())\n",
    "    task_queue = deque(sorted(tasks, key=lambda t: (-t.importance, t.effort)))\n",
    "    unnasigned_tasks=[]\n",
    "    \n",
    "    while task_queue:\n",
    "        task = task_queue.popleft()\n",
    "        best_analyst = None\n",
    "        \n",
    "        for analyst in sorted(analysts, key=lambda a: (-a.rating, a.workload)):\n",
    "            if analyst.available and (analyst.workload + task.effort <= analyst.max_workload):\n",
    "                if analyst.rating >= task.importance:\n",
    "                    best_analyst = analyst\n",
    "                else:\n",
    "                    print(f\"No available analyst level {task.importance} or above for {task.name}\")\n",
    "                    unnasigned_tasks.append(task)\n",
    "                break\n",
    "        #condition to find max hours left for analyst\n",
    "        hours_remaining = deque(sorted(analysts, key=lambda a: (- a.max_workload + a.workload)))\n",
    "        \n",
    "        if best_analyst:\n",
    "            best_analyst.tasks.append(task)\n",
    "            best_analyst.workload += task.effort\n",
    "            best_analyst.available = best_analyst.workload < best_analyst.max_workload\n",
    "            task.assigned_to = best_analyst.name\n",
    "            print(f\"Assigned {task.name} to {best_analyst.name}\")\n",
    "        elif task.effort > (hours_remaining[0].max_workload-hours_remaining[0].workload):\n",
    "            print(f\"\"\"No available analyst for {task.name}, The task requires {task.effort} hours, however the employee with \n",
    "                  the most available hours is {hours_remaining[0].name} who has {hours_remaining[0].max_workload-hours_remaining[0].workload} hours available, \n",
    "                  consider a temporary contractor\"\"\")\n",
    "            unnasigned_tasks.append(task)\n",
    "    if len(unnasigned_tasks) > 0:\n",
    "        print(f\"WARNING: Tasks unable to be assigned are {[task.name for task in unnasigned_tasks]}\")"
   ]
  },
  {
   "cell_type": "markdown",
   "id": "43e5de8f",
   "metadata": {},
   "source": [
    "## 3 ii) task realocattion - if analyst unavailable, keeps all analysts with existing tasks where possible"
   ]
  },
  {
   "cell_type": "code",
   "execution_count": 87,
   "id": "51f0ec9c",
   "metadata": {},
   "outputs": [
    {
     "name": "stdout",
     "output_type": "stream",
     "text": [
      "Assigned Task2 to Alice\n",
      "Assigned Task5 to Josh\n",
      "Assigned Task4 to Alice\n",
      "Assigned Task3 to Bob\n",
      "Assigned Task1 to Josh\n",
      "Assigned Task6 to Bob\n",
      "Assigned Task7 to Charlie\n",
      "tasks for reassignment: ['Task5', 'Task1']\n",
      "No available analyst level 5 or above for Task5\n",
      "Assigned Task1 to Dana\n",
      "WARNING: Tasks unable to be assigned are ['Task5']\n"
     ]
    }
   ],
   "source": [
    "def reassign_tasks_unavailability(analysts_dict:dict ,unavailable_analyst:str):\n",
    "    analysts_dict[unavailable_analyst].available = False\n",
    "    tasks_for_reassignment=analysts_dict[unavailable_analyst].tasks\n",
    "    print('tasks for reassignment:',[task.name for task in tasks_for_reassignment])\n",
    "    analysts = list(analysts_dict.values())\n",
    "    task_queue = deque(sorted(tasks_for_reassignment, key=lambda t: (-t.importance, t.effort)))\n",
    "    unnasigned_tasks=[]\n",
    "    \n",
    "    while task_queue:\n",
    "        task = task_queue.popleft()\n",
    "        best_analyst = None\n",
    "        \n",
    "        for analyst in sorted(analysts, key=lambda a: (-a.rating, a.workload)):\n",
    "            if analyst.available and (analyst.workload + task.effort <= analyst.max_workload):\n",
    "                if analyst.rating >= task.importance:\n",
    "                    best_analyst = analyst\n",
    "                else:\n",
    "                    print(f\"No available analyst level {task.importance} or above for {task.name}\")\n",
    "                    unnasigned_tasks.append(task)\n",
    "                break\n",
    "        #condition to find max hours left for analyst\n",
    "        hours_remaining = deque(sorted(analysts, key=lambda a: (- a.max_workload + a.workload)))\n",
    "        \n",
    "        if best_analyst:\n",
    "            best_analyst.tasks.append(task)\n",
    "            best_analyst.workload += task.effort\n",
    "            best_analyst.available = best_analyst.workload < best_analyst.max_workload\n",
    "            task.assigned_to = best_analyst.name\n",
    "            print(f\"Assigned {task.name} to {best_analyst.name}\")\n",
    "        elif task.effort > (hours_remaining[0].max_workload-hours_remaining[0].workload):\n",
    "            print(f\"\"\"No available analyst for {task.name}, The task requires {task.effort} hours, however the employee with \n",
    "                  the most available hours is {hours_remaining[0].name} who has {hours_remaining[0].max_workload-hours_remaining[0].workload} hours available, \n",
    "                  consider a temporary contractor\"\"\")\n",
    "            unnasigned_tasks.append(task)\n",
    "    if len(unnasigned_tasks) > 0:\n",
    "        print(f\"WARNING: Tasks unable to be assigned are {[task.name for task in unnasigned_tasks]}\")\n",
    "        \n",
    "analysts_dict = {\n",
    "    \"Alice\": Analyst(\"Alice\", 5, 0, 40),\n",
    "    \"Bob\": Analyst(\"Bob\", 4, 0, 40),\n",
    "    \"Charlie\": Analyst(\"Charlie\", 3, 0, 40),\n",
    "    \"Dana\": Analyst(\"Dana\", 2, 0, 40),\n",
    "    \"Eli\": Analyst(\"Eli\", 1, 0, 40),\n",
    "    \"Josh\":Analyst(\"Josh\", 5, 0, 40)\n",
    "}\n",
    "assign_tasks_max_level(analysts_dict,tasks)\n",
    "reassign_tasks_unavailability(analysts_dict,\"Josh\")"
   ]
  },
  {
   "cell_type": "markdown",
   "id": "8070b2a1",
   "metadata": {},
   "source": [
    "### To do list:\n",
    "\n",
    "##### Recursive feature which only reassignes tasks when neccecary\n",
    "##### Optimise for minimal time wastage/reassignment"
   ]
  }
 ],
 "metadata": {
  "kernelspec": {
   "display_name": "analyst",
   "language": "python",
   "name": "python3"
  },
  "language_info": {
   "codemirror_mode": {
    "name": "ipython",
    "version": 3
   },
   "file_extension": ".py",
   "mimetype": "text/x-python",
   "name": "python",
   "nbconvert_exporter": "python",
   "pygments_lexer": "ipython3",
   "version": "3.11.11"
  }
 },
 "nbformat": 4,
 "nbformat_minor": 5
}
